{
 "cells": [
  {
   "cell_type": "code",
   "execution_count": 1,
   "metadata": {},
   "outputs": [],
   "source": [
    "import numpy as np\n",
    "import pandas as pd \n",
    "import matplotlib.pyplot as plt\n",
    "import seaborn as sns\n",
    "%matplotlib inline\n",
    "plt.style.use('seaborn')\n",
    "sns.set_style('darkgrid')"
   ]
  },
  {
   "cell_type": "code",
   "execution_count": 2,
   "metadata": {},
   "outputs": [],
   "source": [
    "df = pd.read_csv(r'alldata_Edmundson.csv') \n",
    "\n",
    "df.drop(['Depth_1', 'Trap_Fill%', 'Class1', 'Class2', 'Class3'], axis=1, inplace=True)"
   ]
  },
  {
   "cell_type": "code",
   "execution_count": 3,
   "metadata": {},
   "outputs": [],
   "source": [
    "## Open and closed ends: [1, 2, 3, 4] indicates (1,2], (2,3], (3,4].\n",
    "\n",
    "## Trap height bins\n",
    "th_bins = [0,150,300,1000]\n",
    "th_labels = ['A','B','C']\n",
    "## Overburden bins\n",
    "ob_bins = [0,1500,3000,10000]\n",
    "ob_labels = ['1','2','3']\n",
    "## Trap fill percent bins\n",
    "tf_bins = [0,50,75,99,100]\n",
    "tf_labels = ['A','B','C','D']\n",
    "\n",
    "## Create columns binning the data into categories\n",
    "df['TH'] = pd.cut(df['Trap_height'], bins=th_bins, labels=th_labels)\n",
    "df['OB'] = pd.cut(df['Depth'], bins=ob_bins, labels=ob_labels)\n",
    "df['TF'] = pd.cut(df['Trap_Fill_2%'], bins=tf_bins, labels=tf_labels)\n",
    "\n",
    "## Combine the individual categories\n",
    "df['TH_OB'] = df['TH'].str.cat(df['OB'],sep=\"\")\n",
    "df['TH_OB_TF'] = df['TH_OB'].str.cat(df['TF'],sep=\"\")\n",
    "\n",
    "## Copy the category columns\n",
    "df['th_ob'] = df['TH_OB']\n",
    "df['th_ob_tf'] = df['TH_OB_TF']\n",
    "df['th'] = df['TH']"
   ]
  },
  {
   "cell_type": "code",
   "execution_count": 23,
   "metadata": {},
   "outputs": [
    {
     "name": "stdout",
     "output_type": "stream",
     "text": [
      "105\n",
      "84\n",
      "50\n"
     ]
    }
   ],
   "source": [
    "for i in th_labels:\n",
    "    print (len(df[df.TH == [i]]))\n",
    "    "
   ]
  },
  {
   "cell_type": "code",
   "execution_count": null,
   "metadata": {},
   "outputs": [],
   "source": [
    "## Sum all the various outcomes to calculate probabilities\n",
    "\n",
    "## Total rows (ie data points)\n",
    "outcomes = len(df.index)\n",
    "\n",
    "## Number of occurrences in each Trap Height bin\n",
    "nA = len(df[df.TH == 'A'])\n",
    "nB = len(df[df.TH == 'B'])\n",
    "nC = len(df[df.TH == 'C'])\n",
    "\n",
    "## Number of overburden occurrences in each trap height category\n",
    "nA1 = len(df[df.TH_OB == 'A1'])\n",
    "nA2 = len(df[df.TH_OB == 'A2'])\n",
    "nA3 = len(df[df.TH_OB == 'A3'])\n",
    "nB1 = len(df[df.TH_OB == 'B1'])\n",
    "nB2 = len(df[df.TH_OB == 'B2'])\n",
    "nB3 = len(df[df.TH_OB == 'B3'])\n",
    "nC1 = len(df[df.TH_OB == 'C1'])\n",
    "nC2 = len(df[df.TH_OB == 'C2'])\n",
    "nC3 = len(df[df.TH_OB == 'C3'])\n",
    "\n",
    "## Number of Trap Fill occurrences in each trap-height-overburden categories\n",
    "nA1A = len(df[df.TH_OB_TF == 'A1A'])\n",
    "nA1B = len(df[df.TH_OB_TF == 'A1B'])\n",
    "nA1C = len(df[df.TH_OB_TF == 'A1C'])\n",
    "nA1D = len(df[df.TH_OB_TF == 'A1D'])\n",
    "\n",
    "nA2A = len(df[df.TH_OB_TF == 'A2A'])\n",
    "nA2B = len(df[df.TH_OB_TF == 'A2B'])\n",
    "nA2C = len(df[df.TH_OB_TF == 'A2C'])\n",
    "nA2D = len(df[df.TH_OB_TF == 'A2D'])\n",
    "\n",
    "nA3A = len(df[df.TH_OB_TF == 'A3A'])\n",
    "nA3B = len(df[df.TH_OB_TF == 'A3B'])\n",
    "nA3C = len(df[df.TH_OB_TF == 'A3C'])\n",
    "nA3D = len(df[df.TH_OB_TF == 'A3D'])\n",
    "\n",
    "nB1A = len(df[df.TH_OB_TF == 'B1A'])\n",
    "nB1B = len(df[df.TH_OB_TF == 'B1B'])\n",
    "nB1C = len(df[df.TH_OB_TF == 'B1C'])\n",
    "nB1D = len(df[df.TH_OB_TF == 'B1D'])\n",
    "\n",
    "nB2A = len(df[df.TH_OB_TF == 'B2A'])\n",
    "nB2B = len(df[df.TH_OB_TF == 'B2B'])\n",
    "nB2C = len(df[df.TH_OB_TF == 'B2C'])\n",
    "nB2D = len(df[df.TH_OB_TF == 'B2D'])\n",
    "\n",
    "nB3A = len(df[df.TH_OB_TF == 'B3A'])\n",
    "nB3B = len(df[df.TH_OB_TF == 'B3B'])\n",
    "nB3C = len(df[df.TH_OB_TF == 'B3C'])\n",
    "nB3D = len(df[df.TH_OB_TF == 'B3D'])\n",
    "\n",
    "nC1A = len(df[df.TH_OB_TF == 'C1A'])\n",
    "nC1B = len(df[df.TH_OB_TF == 'C1B'])\n",
    "nC1C = len(df[df.TH_OB_TF == 'C1C'])\n",
    "nC1D = len(df[df.TH_OB_TF == 'C1D'])\n",
    "\n",
    "nC2A = len(df[df.TH_OB_TF == 'C2A'])\n",
    "nC2B = len(df[df.TH_OB_TF == 'C2B'])\n",
    "nC2C = len(df[df.TH_OB_TF == 'C2C'])\n",
    "nC2D = len(df[df.TH_OB_TF == 'C2D'])\n",
    "\n",
    "nC3A = len(df[df.TH_OB_TF == 'C3A'])\n",
    "nC3B = len(df[df.TH_OB_TF == 'C3B'])\n",
    "nC3C = len(df[df.TH_OB_TF == 'C3C'])\n",
    "nC3D = len(df[df.TH_OB_TF == 'C3D'])\n",
    "\n",
    "\n",
    "#print(pA,pB,pC)\n",
    "#print(pA1,pA2,pA3,pB1,pB2,pB3,pC1,pC2,pC3)\n",
    "#print(pA11,pA12,pA13,pA21,pA22,pA23,pA31,pA32,pA33)\n",
    "#print(pB11,pB12,pB13,pB21,pB22,pB23,pB31,pB32,pB33)\n",
    "#print(pC11,pC12,pC13,pC21,pC22,pC23,pC31,pC32,pC33)\n"
   ]
  },
  {
   "cell_type": "code",
   "execution_count": null,
   "metadata": {},
   "outputs": [],
   "source": [
    "## changing the column 'TH' (Trap height) to number of entries\n",
    "x = {'A' : nA,\n",
    "     'B' : nB,\n",
    "     'C' : nC\n",
    "    }\n",
    "\n",
    "## changing the column 'TH_OB' (Trap height & Overburden) to number of entries\n",
    "y = {'A1' : nA1,\n",
    "     'A2' : nA2,\n",
    "     'A3' : nA3,\n",
    "     'B1' : nB1,\n",
    "     'B2' : nB2,\n",
    "     'B3' : nB3,\n",
    "     'C1' : nC1,\n",
    "     'C2' : nC2,\n",
    "     'C3' : nC3\n",
    "    }\n",
    "\n",
    "## changing the column 'TH_OB_TF' (Trap height & Overburden & Trap Fill) to number of entries\n",
    "z = {'A1A':nA1A, 'A1B':nA1B, 'A1C':nA1C, 'A1D':nA1D,\n",
    "     'A2A':nA2A, 'A2B':nA2B, 'A2C':nA2C, 'A2D':nA2D,\n",
    "     'A3A':nA3A, 'A3B':nA3B, 'A3C':nA3C, 'A3D':nA3D,\n",
    "     'B1A':nB1A, 'B1B':nB1B, 'B1C':nB1C, 'B1D':nB1D,\n",
    "     'B2A':nB2A, 'B2B':nB2B, 'B2C':nB2C, 'B2D':nB2D,\n",
    "     'B3A':nB3A, 'B3B':nB3B, 'B3C':nB3C, 'B3D':nB3D,\n",
    "     'C1A':nC1A, 'C1B':nC1B, 'C1C':nC1C, 'C1D':nC1D,\n",
    "     'C2A':nC2A, 'C2B':nC2B, 'C2C':nC2C, 'C2D':nC2D,\n",
    "     'C3A':nC3A, 'C3B':nC3B, 'C3C':nC3C, 'C3D':nC3D\n",
    "}"
   ]
  },
  {
   "cell_type": "code",
   "execution_count": null,
   "metadata": {},
   "outputs": [],
   "source": [
    "## swapping codes for number of occurrances\n",
    "df.TH = [x[item] for item in df.TH]  \n",
    "df['pTH'] = df.TH / outcomes\n",
    "\n",
    "df.TH_OB = [y[item] for item in df.TH_OB]\n",
    "df['pTH_OB'] = df.TH_OB / df.TH\n",
    "\n",
    "df.TH_OB_TF = [z[item] for item in df.TH_OB_TF]\n",
    "df['pTH_OB_TF'] = df.TH_OB_TF / df.TH_OB\n",
    "\n",
    "## Calculating result probability\n",
    "df['pTotal'] = df.pTH * df.pTH_OB * df.pTH_OB_TF\n"
   ]
  },
  {
   "cell_type": "code",
   "execution_count": null,
   "metadata": {},
   "outputs": [],
   "source": [
    "## Creating prob dataframe to drop duplicates\n",
    "prob = df.drop(['Depth', 'HC_Column', 'Trap_height', 'Trap_Fill_2%'], axis=1)\n",
    "prob.drop_duplicates(inplace=True)"
   ]
  },
  {
   "cell_type": "code",
   "execution_count": null,
   "metadata": {},
   "outputs": [],
   "source": [
    "sns.jointplot(y='HC_Column', x='Trap_height', data=df, kind='reg')"
   ]
  },
  {
   "cell_type": "code",
   "execution_count": null,
   "metadata": {},
   "outputs": [],
   "source": [
    "## Plot results : using FacetGrid\n",
    "g = sns.FacetGrid(data=prob, row='OB' , col='th' )\n",
    "g.map(plt.bar, 'th_ob_tf', 'pTotal')\n",
    "plt.savefig('overburden_HCcolumn_by_trapfill_categoryv2',bbox_inches='tight')"
   ]
  },
  {
   "cell_type": "code",
   "execution_count": null,
   "metadata": {
    "scrolled": true
   },
   "outputs": [],
   "source": [
    "## Plot results using subplots\n",
    "fig, axes = plt.subplots(3, 3, sharey='row', figsize=(12,12))\n",
    "#plt.subplots_adjust(left=None, bottom=None, right=None, top=None, wspace=None, hspace=None)\n",
    "\n",
    "sns.barplot(x='th_ob_tf', y='pTotal', data=prob[prob['th_ob']=='A1'], ax=axes[0,0])\n",
    "sns.barplot(x='th_ob_tf', y='pTotal', data=prob[prob['th_ob']=='A2'], ax=axes[1,0])\n",
    "sns.barplot(x='th_ob_tf', y='pTotal', data=prob[prob['th_ob']=='A3'], ax=axes[2,0])\n",
    "sns.barplot(x='th_ob_tf', y='pTotal', data=prob[prob['th_ob']=='B1'], ax=axes[0,1])\n",
    "sns.barplot(x='th_ob_tf', y='pTotal', data=prob[prob['th_ob']=='B2'], ax=axes[1,1])\n",
    "sns.barplot(x='th_ob_tf', y='pTotal', data=prob[prob['th_ob']=='B3'], ax=axes[2,1])\n",
    "sns.barplot(x='th_ob_tf', y='pTotal', data=prob[prob['th_ob']=='C1'], ax=axes[0,2])\n",
    "sns.barplot(x='th_ob_tf', y='pTotal', data=prob[prob['th_ob']=='C2'], ax=axes[1,2])\n",
    "sns.barplot(x='th_ob_tf', y='pTotal', data=prob[prob['th_ob']=='C3'], ax=axes[2,2])\n",
    "\n",
    "#axes[2,2].set_title('Trap Height (>300m)')\n",
    "#axes[2,2].set_xlabel('Trap Fill (m)')\n",
    "#axes[0,0].set_ylabel('Probability')\n",
    "#axes[2,2].legend()\n",
    "\n",
    "plt.savefig('overburden_HCcolumn_by_trapfill_category',bbox_inches='tight')"
   ]
  },
  {
   "cell_type": "code",
   "execution_count": null,
   "metadata": {},
   "outputs": [],
   "source": []
  },
  {
   "cell_type": "code",
   "execution_count": null,
   "metadata": {},
   "outputs": [],
   "source": []
  }
 ],
 "metadata": {
  "kernelspec": {
   "display_name": "Python 3",
   "language": "python",
   "name": "python3"
  },
  "language_info": {
   "codemirror_mode": {
    "name": "ipython",
    "version": 3
   },
   "file_extension": ".py",
   "mimetype": "text/x-python",
   "name": "python",
   "nbconvert_exporter": "python",
   "pygments_lexer": "ipython3",
   "version": "3.6.5"
  }
 },
 "nbformat": 4,
 "nbformat_minor": 2
}
