{
 "cells": [
  {
   "cell_type": "markdown",
   "metadata": {},
   "source": [
    "# HC Column Height Study"
   ]
  },
  {
   "cell_type": "code",
   "execution_count": 1,
   "metadata": {},
   "outputs": [],
   "source": [
    "import numpy as np\n",
    "import pandas as pd \n",
    "import matplotlib.pyplot as plt\n",
    "import seaborn as sns"
   ]
  },
  {
   "cell_type": "code",
   "execution_count": 2,
   "metadata": {},
   "outputs": [],
   "source": [
    "%matplotlib inline\n",
    "plt.style.use('seaborn')\n",
    "sns.set_style('darkgrid')"
   ]
  },
  {
   "cell_type": "code",
   "execution_count": 3,
   "metadata": {},
   "outputs": [
    {
     "data": {
      "text/html": [
       "<div>\n",
       "<style scoped>\n",
       "    .dataframe tbody tr th:only-of-type {\n",
       "        vertical-align: middle;\n",
       "    }\n",
       "\n",
       "    .dataframe tbody tr th {\n",
       "        vertical-align: top;\n",
       "    }\n",
       "\n",
       "    .dataframe thead th {\n",
       "        text-align: right;\n",
       "    }\n",
       "</style>\n",
       "<table border=\"1\" class=\"dataframe\">\n",
       "  <thead>\n",
       "    <tr style=\"text-align: right;\">\n",
       "      <th></th>\n",
       "      <th>Depth</th>\n",
       "      <th>HC_Column</th>\n",
       "      <th>Trap_height</th>\n",
       "      <th>Trap_Fill_2%</th>\n",
       "    </tr>\n",
       "  </thead>\n",
       "  <tbody>\n",
       "    <tr>\n",
       "      <th>0</th>\n",
       "      <td>1392</td>\n",
       "      <td>44</td>\n",
       "      <td>90</td>\n",
       "      <td>49</td>\n",
       "    </tr>\n",
       "    <tr>\n",
       "      <th>1</th>\n",
       "      <td>1961</td>\n",
       "      <td>20</td>\n",
       "      <td>49</td>\n",
       "      <td>41</td>\n",
       "    </tr>\n",
       "    <tr>\n",
       "      <th>2</th>\n",
       "      <td>2450</td>\n",
       "      <td>46</td>\n",
       "      <td>100</td>\n",
       "      <td>46</td>\n",
       "    </tr>\n",
       "    <tr>\n",
       "      <th>3</th>\n",
       "      <td>3209</td>\n",
       "      <td>38</td>\n",
       "      <td>77</td>\n",
       "      <td>49</td>\n",
       "    </tr>\n",
       "    <tr>\n",
       "      <th>4</th>\n",
       "      <td>199</td>\n",
       "      <td>76</td>\n",
       "      <td>154</td>\n",
       "      <td>49</td>\n",
       "    </tr>\n",
       "  </tbody>\n",
       "</table>\n",
       "</div>"
      ],
      "text/plain": [
       "   Depth  HC_Column  Trap_height  Trap_Fill_2%\n",
       "0   1392         44           90            49\n",
       "1   1961         20           49            41\n",
       "2   2450         46          100            46\n",
       "3   3209         38           77            49\n",
       "4    199         76          154            49"
      ]
     },
     "execution_count": 3,
     "metadata": {},
     "output_type": "execute_result"
    }
   ],
   "source": [
    "df = pd.read_csv(r'alldata_Edmundson.csv') \n",
    "\n",
    "df.drop(['Depth_1', 'Trap_Fill%', 'Class1', 'Class2', 'Class3'], axis=1, inplace=True)\n",
    "df.head()"
   ]
  },
  {
   "cell_type": "code",
   "execution_count": null,
   "metadata": {},
   "outputs": [],
   "source": [
    "## bins used with pd.cut(): [1, 2, 3, 4] indicates (1,2], (2,3], (3,4].\n",
    "## Trap height bins : (0,150],(150,300],(300,1000]\n",
    "th_bins = [0,150,300,1000]\n",
    "th_labels = ['A','B','C']\n",
    "## Overburden bins\n",
    "ob_bins = [0,1500,3000,10000]\n",
    "ob_labels = ['1','2','3']\n",
    "## Trap fill percent bins\n",
    "tf_bins = [0,50,75,99,100]\n",
    "tf_labels = ['A','B','C','D']\n",
    "\n",
    "## Create columns binning the data into categories\n",
    "df['TH'] = pd.cut(df['Trap_height'], bins=th_bins, labels=th_labels)\n",
    "df['OB'] = pd.cut(df['Depth'], bins=ob_bins, labels=ob_labels)\n",
    "df['TF'] = pd.cut(df['Trap_Fill_2%'], bins=tf_bins, labels=tf_labels)\n",
    "\n",
    "## Combine the individual categories\n",
    "## Combine cols 'TH' and 'OB' into TH_OB\n",
    "df['TH_OB'] = df['TH'].str.cat(df['OB'],sep=\"\")\n",
    "## Combine cols 'TH_OB' and 'TF' into 'TH_OB_TF'\n",
    "df['TH_OB_TF'] = df['TH_OB'].str.cat(df['TF'],sep=\"\")\n",
    "\n",
    "## Copy the category columns - TH_OB, etc will be modified later\n",
    "df['th_ob'] = df['TH_OB']\n",
    "df['th_ob_tf'] = df['TH_OB_TF']\n",
    "df['th'] = df['TH']"
   ]
  },
  {
   "cell_type": "code",
   "execution_count": null,
   "metadata": {},
   "outputs": [],
   "source": [
    "## Change oject types to Category so the dictionary swap can work\n",
    "for col in ['TH_OB', 'TH_OB_TF', 'th_ob', 'th_ob_tf']:\n",
    "    df[col] = df[col].astype('category')\n",
    "\n",
    "## Create lists containing unique category labels\n",
    "th_ob_labels = list(df['TH_OB'].unique())\n",
    "th_ob_tf_labels = list(df.TH_OB_TF.unique())\n",
    "\n",
    "## Number of total outcomes\n",
    "outcomes = len(df.index)"
   ]
  },
  {
   "cell_type": "code",
   "execution_count": null,
   "metadata": {},
   "outputs": [],
   "source": [
    "## Create dictionarys relating the labels with the number of elements in each label\n",
    "\n",
    "d_th = {}\n",
    "for i in th_labels:\n",
    "    d_th[i] = len(df[df.TH == [i]])\n",
    "\n",
    "d_th_ob = {}\n",
    "for i in th_ob_labels:\n",
    "    d_th_ob[i] = len(df[df.TH_OB == [i]])\n",
    "    \n",
    "d_th_ob_tf = {}\n",
    "for i in th_ob_tf_labels:\n",
    "    d_th_ob_tf[i] = len(df[df.TH_OB_TF == [i]])"
   ]
  },
  {
   "cell_type": "code",
   "execution_count": null,
   "metadata": {},
   "outputs": [],
   "source": [
    "## swapping codes for number of occurrances\n",
    "df.TH = [d_th[item] for item in df.TH]  \n",
    "df['pTH'] = df.TH / outcomes\n",
    "\n",
    "df.TH_OB = [d_th_ob[item] for item in df.TH_OB]\n",
    "df['pTH_OB'] = df.TH_OB / df.TH\n",
    "\n",
    "df.TH_OB_TF = [d_th_ob_tf[item] for item in df.TH_OB_TF]\n",
    "df['pTH_OB_TF'] = df.TH_OB_TF / df.TH_OB\n",
    "\n",
    "## Calculating result probability\n",
    "df['pTotal'] = df.pTH * df.pTH_OB * df.pTH_OB_TF\n"
   ]
  },
  {
   "cell_type": "code",
   "execution_count": null,
   "metadata": {},
   "outputs": [],
   "source": [
    "## Creating prob dataframe to drop duplicates\n",
    "prob = df.drop(['Depth', 'HC_Column', 'Trap_height', 'Trap_Fill_2%'], axis=1)\n",
    "prob.drop_duplicates(inplace=True)\n",
    "\n",
    "## change type from category to object in order for sns.barplot correctly\n",
    "for col in ['th_ob', 'th_ob_tf']:\n",
    "    prob[col] = prob[col].astype('object')"
   ]
  },
  {
   "cell_type": "code",
   "execution_count": null,
   "metadata": {},
   "outputs": [],
   "source": [
    "sns.jointplot(y='HC_Column', x='Trap_height', data=df, kind='reg',)"
   ]
  },
  {
   "cell_type": "code",
   "execution_count": null,
   "metadata": {},
   "outputs": [],
   "source": [
    "## Plot results : using FacetGrid\n",
    "g = sns.FacetGrid(data=prob, row='OB' , col='th' )\n",
    "g.map(plt.bar, 'th_ob_tf', 'pTotal')\n",
    "plt.savefig('overburden_HCcolumn_by_trapfill_categoryv2',bbox_inches='tight')"
   ]
  },
  {
   "cell_type": "code",
   "execution_count": null,
   "metadata": {
    "scrolled": true
   },
   "outputs": [],
   "source": [
    "## Plot results using subplots\n",
    "fig, axes = plt.subplots(3, 3, sharex=True, sharey=True, figsize=(12,12))\n",
    "#plt.subplots_adjust(left=None, bottom=None, right=None, top=None, wspace=None, hspace=None)\n",
    "\n",
    "sns.barplot(x='th_ob_tf', y='pTotal', data=prob[prob['th_ob']=='A1'], ax=axes[0,0])\n",
    "sns.barplot(x='th_ob_tf', y='pTotal', data=prob[prob['th_ob']=='A2'], ax=axes[1,0])\n",
    "sns.barplot(x='th_ob_tf', y='pTotal', data=prob[prob['th_ob']=='A3'], ax=axes[2,0])\n",
    "sns.barplot(x='th_ob_tf', y='pTotal', data=prob[prob['th_ob']=='B1'], ax=axes[0,1])\n",
    "sns.barplot(x='th_ob_tf', y='pTotal', data=prob[prob['th_ob']=='B2'], ax=axes[1,1])\n",
    "sns.barplot(x='th_ob_tf', y='pTotal', data=prob[prob['th_ob']=='B3'], ax=axes[2,1])\n",
    "sns.barplot(x='th_ob_tf', y='pTotal', data=prob[prob['th_ob']=='C1'], ax=axes[0,2])\n",
    "sns.barplot(x='th_ob_tf', y='pTotal', data=prob[prob['th_ob']=='C2'], ax=axes[1,2])\n",
    "sns.barplot(x='th_ob_tf', y='pTotal', data=prob[prob['th_ob']=='C3'], ax=axes[2,2])\n",
    "\n",
    "#axes[2,2].set_title('Trap Height (>300m)')\n",
    "#axes[2,2].set_xlabel('Trap Fill (m)')\n",
    "#axes[0,0].set_ylabel('Probability')\n",
    "#axes[2,2].legend()\n",
    "\n",
    "plt.savefig('overburden_HCcolumn_by_trapfill_category',bbox_inches='tight')"
   ]
  },
  {
   "cell_type": "code",
   "execution_count": null,
   "metadata": {},
   "outputs": [],
   "source": []
  },
  {
   "cell_type": "code",
   "execution_count": null,
   "metadata": {},
   "outputs": [],
   "source": []
  }
 ],
 "metadata": {
  "kernelspec": {
   "display_name": "Python 3",
   "language": "python",
   "name": "python3"
  },
  "language_info": {
   "codemirror_mode": {
    "name": "ipython",
    "version": 3
   },
   "file_extension": ".py",
   "mimetype": "text/x-python",
   "name": "python",
   "nbconvert_exporter": "python",
   "pygments_lexer": "ipython3",
   "version": "3.6.5"
  }
 },
 "nbformat": 4,
 "nbformat_minor": 2
}
